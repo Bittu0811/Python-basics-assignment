{
 "cells": [
  {
   "cell_type": "markdown",
   "id": "c851acc0-e3a2-4fb4-b774-64ca1b09485f",
   "metadata": {},
   "source": [
    "#Theory Questions"
   ]
  },
  {
   "cell_type": "markdown",
   "id": "ba2f3c39-bba5-48f7-99ae-0ef5b946b9f4",
   "metadata": {},
   "source": [
    "#Q.1 What is Python, and why is it popular?\n",
    "Ans1 Python is a high-level, interpreted programming language known for its clear syntax and readability.\n",
    "     Popularity reasons:\n",
    "     Easy to learn and use\n",
    "     Vast standard library\n",
    "     Huge community support\n",
    "     Versatile (used in web dev, data science, AI, automation, etc.)"
   ]
  },
  {
   "cell_type": "markdown",
   "id": "e9907721-caf2-40b1-bb32-b858d000f866",
   "metadata": {},
   "source": [
    "#Q.2 What is an interpreter in Python?\n",
    "Ans2 An interpreter reads and executes Python code line by line.\n",
    "     It translates Python code into machine instructions at runtime, unlike a compiler which does it before execution."
   ]
  },
  {
   "cell_type": "markdown",
   "id": "a03c9b9a-c68f-4538-b886-d74e5624eb15",
   "metadata": {},
   "source": [
    "#Q.3 What are pre-defined keywords in Python?\n",
    "Ans3 Pre-defined keywords are reserved words in Python that have special meaning.\n",
    "     Examples: if, else, while, def, class, return, etc."
   ]
  },
  {
   "cell_type": "markdown",
   "id": "4de0b321-e3b5-4c23-b496-526bd9c5a93a",
   "metadata": {},
   "source": [
    "#Q.4 Can keywords be used as variable names?\n",
    "Ans4 No, you cannot use keywords as variable names because they are reserved for specific syntactic use by Python."
   ]
  },
  {
   "cell_type": "markdown",
   "id": "d2cd84f6-abb3-4be7-9eaf-f38a72f7d1c1",
   "metadata": {},
   "source": [
    "#Q.5 What is mutability in Python?\n",
    "Ans5 Mutability refers to whether an object’s content can be changed after it's created.\n",
    "     Mutable: Can be changed (e.g., lists, dictionaries)\n",
    "     Immutable: Cannot be changed (e.g., strings, tuples, integers)"
   ]
  },
  {
   "cell_type": "markdown",
   "id": "aaa019d3-20c1-4c25-a6aa-4862bd7d89ca",
   "metadata": {},
   "source": [
    "#Q.6 Why are lists mutable, but tuples are immutable?\n",
    "Ans6 Lists are designed for dynamic content — they support operations like append(), pop(), etc.\n",
    "     Tuples are designed to be fixed — their immutability helps with safety, hashability (can be dictionary keys), and performance."
   ]
  },
  {
   "cell_type": "markdown",
   "id": "a1343a9f-fa23-4a3b-a0b5-b3e2dc554b09",
   "metadata": {},
   "source": [
    "#Q.7 What is the difference between == and is in Python?\n",
    "Ans7 == compares values (e.g., 5 == 5 is True)\n",
    "     is compares identities (whether two variables point to the same object in memory)."
   ]
  },
  {
   "cell_type": "markdown",
   "id": "767e953c-bb8d-4838-a8ae-d1dcc2d890a3",
   "metadata": {},
   "source": [
    "#Q.8 What are logical operators in Python?\n",
    "Ans8 Logical operators are used to combine conditional statements:\n",
    "     and → True if both are True\n",
    "     or → True if at least one is True\n",
    "     not → Inverts the truth value"
   ]
  },
  {
   "cell_type": "markdown",
   "id": "40680a09-5bcf-4fd1-b739-bcc335ba6268",
   "metadata": {},
   "source": [
    "#Q.9 What is type casting in Python?\n",
    "Ans9 Type casting is the conversion of one data type into another.\n",
    "     e.g. int to float, int to string, etc."
   ]
  },
  {
   "cell_type": "markdown",
   "id": "062e6e52-7fb8-4005-abe4-4fbdd92f7513",
   "metadata": {},
   "source": [
    "#Q.10 What is the difference between implicit and explicit type casting?\n",
    "Ans10 Implicit: Done by Python automatically (e.g., 2 + 3.0 → result is 5.0)\n",
    "      Explicit: Done by the programmer using functions like int(), str(), float(), etc."
   ]
  },
  {
   "cell_type": "markdown",
   "id": "80297ed8-582c-4437-84f6-b8b61fe3af75",
   "metadata": {},
   "source": [
    "#Q.11 What is the purpose of conditional statements in Python?\n",
    "Ans11 Conditional statements (if, elif, else) are used to control the flow of a program based on certain conditions."
   ]
  },
  {
   "cell_type": "markdown",
   "id": "ba0aefd1-9b08-4801-bb38-86c344c6a364",
   "metadata": {},
   "source": [
    "#Q.12 How does the elif statement work?\n",
    "Ans12 elif (else if) allows you to check multiple conditions one after another.\n",
    "      It executes after if condition."
   ]
  },
  {
   "cell_type": "markdown",
   "id": "1f5962e3-d91f-4b4e-9081-7b68d248e72e",
   "metadata": {},
   "source": [
    "#Q.13 What is the difference between for and while loops?\n",
    "Ans13 for loop: Used when you know the number of iterations (e.g., iterating over a list or range)\n",
    "      while loop: Used when the condition depends on logic and not fixed count"
   ]
  },
  {
   "cell_type": "markdown",
   "id": "03bf14ce-6ccd-4212-b485-f58dab471b5a",
   "metadata": {},
   "source": [
    "#Q.14 Describe a scenario where a while loop is more suitable than a for loop.\n",
    "Ans14 A while loop is better when the number of iterations isn't known in advance.\n",
    "      e.g. a program where exit word entered by user to exit the loop. "
   ]
  },
  {
   "cell_type": "code",
   "execution_count": 3,
   "id": "af080414-a635-4693-bda3-37465fc61c99",
   "metadata": {},
   "outputs": [
    {
     "name": "stdout",
     "output_type": "stream",
     "text": [
      "Hello, World!\n"
     ]
    }
   ],
   "source": [
    "#Q.1\n",
    "print(\"Hello, World!\")"
   ]
  },
  {
   "cell_type": "code",
   "execution_count": 4,
   "id": "edf2957d-1366-4777-a0f6-6543df2efb6d",
   "metadata": {},
   "outputs": [
    {
     "name": "stdout",
     "output_type": "stream",
     "text": [
      "Name- Subhrajeet rout\n",
      "age- 24\n"
     ]
    }
   ],
   "source": [
    "#Q.2\n",
    "n=\"Subhrajeet rout\"\n",
    "x=24\n",
    "print(\"Name-\",n+\"\\nage-\",x)"
   ]
  },
  {
   "cell_type": "code",
   "execution_count": 5,
   "id": "fa0d58fd-cab2-4bf6-8fa9-0f4578cd6c84",
   "metadata": {},
   "outputs": [
    {
     "name": "stdout",
     "output_type": "stream",
     "text": [
      "\n",
      "Here is a list of the Python keywords.  Enter any keyword to get more help.\n",
      "\n",
      "False               class               from                or\n",
      "None                continue            global              pass\n",
      "True                def                 if                  raise\n",
      "and                 del                 import              return\n",
      "as                  elif                in                  try\n",
      "assert              else                is                  while\n",
      "async               except              lambda              with\n",
      "await               finally             nonlocal            yield\n",
      "break               for                 not                 \n",
      "\n"
     ]
    }
   ],
   "source": [
    "#Q.3\n",
    "help('keywords')"
   ]
  },
  {
   "cell_type": "code",
   "execution_count": 16,
   "id": "aa099030-dd8c-4ebd-9fd3-cea50c8f9a92",
   "metadata": {},
   "outputs": [
    {
     "name": "stdin",
     "output_type": "stream",
     "text": [
      "enter any word: As\n"
     ]
    },
    {
     "name": "stdout",
     "output_type": "stream",
     "text": [
      "given word is a Python keyword\n"
     ]
    }
   ],
   "source": [
    "#Q.4\n",
    "import keyword\n",
    "w=input(\"enter any word:\")\n",
    "if w.lower() in [kw.lower() for kw in keyword.kwlist]:\n",
    "    print(\"given word is a Python keyword\")\n",
    "else:\n",
    "    print(\"given word is not a Python keyword\")"
   ]
  },
  {
   "cell_type": "code",
   "execution_count": null,
   "id": "8c18df22-bdbb-4d8f-934f-e392f8f3d2c0",
   "metadata": {},
   "outputs": [],
   "source": [
    "#Q.5\n",
    "a=[1,2,3,4,5]\n",
    "a[1]=9\n",
    "print(a,\"\\n\",type(a))\n",
    "dict\n",
    "b=('S','H','U','B','H')#tuples are immutable we cannot change it.\n",
    "type(b)"
   ]
  },
  {
   "cell_type": "code",
   "execution_count": 8,
   "id": "9f5a6014-4b10-44e5-a808-820f80e6c18b",
   "metadata": {},
   "outputs": [
    {
     "name": "stdout",
     "output_type": "stream",
     "text": [
      "10\n",
      "Welcome friend\n",
      "['Hey!!', 'shubh']\n",
      "9\n",
      "Welcome \n",
      "['Hey!!', 'shubh']\n"
     ]
    }
   ],
   "source": [
    "#Q.6\n",
    "def add(num,char,list):\n",
    "    num+=1\n",
    "    char+=\"friend\"\n",
    "    list.append(\"shubh\")\n",
    "    print(num)\n",
    "    print(char)\n",
    "    print(list)\n",
    "\n",
    "num=9\n",
    "char=\"Welcome \"\n",
    "list=[\"Hey!!\"]\n",
    "add(num,char,list)\n",
    "#original string and integer did not change its values because it is immutable but list can change.\n",
    "print(num)\n",
    "print(char)\n",
    "print(list)"
   ]
  },
  {
   "cell_type": "code",
   "execution_count": null,
   "id": "ae096ac0-9d76-4716-9716-50863c9d06c2",
   "metadata": {},
   "outputs": [],
   "source": [
    "#Q.7\n",
    "a=int(input(\"enter 1st number:\"))\n",
    "b=int(input(\"enter 2nd number:\"))\n",
    "print(\"the sum=\",a+b)\n",
    "print(a-b)\n",
    "print(a*b)\n",
    "print(a/b)\n",
    "print(a%b)\n",
    "print(a**b)\n",
    "print(a//b)"
   ]
  },
  {
   "cell_type": "code",
   "execution_count": 13,
   "id": "4c11a154-2453-4ecd-bb85-5747734ff34c",
   "metadata": {},
   "outputs": [
    {
     "name": "stdout",
     "output_type": "stream",
     "text": [
      "False\n",
      "never stop working hard\n",
      "False\n"
     ]
    }
   ],
   "source": [
    "#Q.8\n",
    "#1) Use of 'and'\n",
    "a=5\n",
    "b=3\n",
    "print(a and b>=5)\n",
    "\n",
    "#2)use of 'or'\n",
    "x=5\n",
    "y=10\n",
    "if x>10 or y>5:\n",
    "    print(\"never stop working hard\")\n",
    "\n",
    "#3)Use of 'not'\n",
    "a=9\n",
    "print(not a>5)"
   ]
  },
  {
   "cell_type": "code",
   "execution_count": 26,
   "id": "f88def97-19d1-4542-af1f-1ee118d371db",
   "metadata": {},
   "outputs": [
    {
     "name": "stdin",
     "output_type": "stream",
     "text": [
      "enter number only: 4\n"
     ]
    },
    {
     "name": "stdout",
     "output_type": "stream",
     "text": [
      "4 \n",
      " 4.0 \n",
      " True\n"
     ]
    }
   ],
   "source": [
    "#Q.9\n",
    "a=input(\"enter number only:\")\n",
    "print(int(a),\"\\n\",float(a),\"\\n\",bool(a))"
   ]
  },
  {
   "cell_type": "code",
   "execution_count": 7,
   "id": "a285cb4d-dc35-4ec7-bfa5-630a751adcc3",
   "metadata": {},
   "outputs": [
    {
     "name": "stdout",
     "output_type": "stream",
     "text": [
      "<class 'float'> 11.0\n",
      "<class 'int'> 1\n",
      "<class 'bool'> True\n",
      "<class 'bool'> True\n",
      "<class 'str'> (2+5j)\n",
      "<class 'complex'> (9.4+0j)\n",
      "<class 'int'> 2025\n"
     ]
    }
   ],
   "source": [
    "#Q.10\n",
    "list1=[11,9.4,True,\"2025\",2+5j,\"shubh\"]\n",
    "a=float(list1[0])\n",
    "print(type(a),a)\n",
    "b=int(list1[2])\n",
    "print(type(b),b)\n",
    "c=bool(list1[1])\n",
    "print(type(c),c)\n",
    "d=bool(list1[5])\n",
    "print(type(d),d)\n",
    "e=str(list1[4])\n",
    "print(type(e),e)\n",
    "f=complex(list1[1])\n",
    "print(type(f),f)\n",
    "g=int(list1[3])\n",
    "print(type(g),g)"
   ]
  },
  {
   "cell_type": "code",
   "execution_count": null,
   "id": "6e7179f4-d573-4165-b651-6b73a2401d4a",
   "metadata": {},
   "outputs": [],
   "source": [
    "#Q.11\n",
    "n=int(input(\"Enter any integer:\"))\n",
    "if n>0:\n",
    "    print(\"It is a positive natural number\")\n",
    "elif n==0:\n",
    "    print(\"You have entered zero\")\n",
    "else:\n",
    "    print(\"It's a negative number\")"
   ]
  },
  {
   "cell_type": "code",
   "execution_count": null,
   "id": "08d12d2b-3e06-488c-aff0-ebad399d126c",
   "metadata": {},
   "outputs": [],
   "source": [
    "#Q.12\n",
    "n=1\n",
    "for i in range(1,11):\n",
    "    print(i)\n",
    "    i+=1"
   ]
  },
  {
   "cell_type": "code",
   "execution_count": null,
   "id": "ed28d34a-9217-4036-9d86-fc65aa9ef223",
   "metadata": {},
   "outputs": [],
   "source": [
    "#Q.13\n",
    "sum=0\n",
    "i=2\n",
    "while i<=50:\n",
    "    sum=sum+i\n",
    "    i+=2\n",
    "print(sum)"
   ]
  },
  {
   "cell_type": "code",
   "execution_count": null,
   "id": "a4484a0b-d36d-44fb-85b2-36af35237ca1",
   "metadata": {},
   "outputs": [],
   "source": [
    "#Q.14\n",
    "a=input(\"suggest any word:\")\n",
    "reverse=\"\"\n",
    "n=len(a)-1\n",
    "while(n>=0):\n",
    "    reverse+=a[n]\n",
    "    n-=1\n",
    "print(reverse)"
   ]
  },
  {
   "cell_type": "code",
   "execution_count": null,
   "id": "94a5deb1-4530-4ccd-8a5e-a828612916a1",
   "metadata": {},
   "outputs": [],
   "source": [
    "#Q.15\n",
    "n=int(input(\"Enter any number:\"))\n",
    "if n<0:\n",
    "    print(\"factorial of negative number is not defined\")\n",
    "else:\n",
    "    i=1\n",
    "    product=1\n",
    "    while i<=n: #once i becomes greater than n the loop stops\n",
    "        product= product*i\n",
    "        i+=1\n",
    "    print(\"the factorial of\",n, \"is\",product)"
   ]
  },
  {
   "cell_type": "code",
   "execution_count": null,
   "id": "75fca907-6439-456d-ace3-c7f9b730d1b2",
   "metadata": {},
   "outputs": [],
   "source": []
  }
 ],
 "metadata": {
  "kernelspec": {
   "display_name": "Python 3 (ipykernel)",
   "language": "python",
   "name": "python3"
  },
  "language_info": {
   "codemirror_mode": {
    "name": "ipython",
    "version": 3
   },
   "file_extension": ".py",
   "mimetype": "text/x-python",
   "name": "python",
   "nbconvert_exporter": "python",
   "pygments_lexer": "ipython3",
   "version": "3.12.7"
  }
 },
 "nbformat": 4,
 "nbformat_minor": 5
}
